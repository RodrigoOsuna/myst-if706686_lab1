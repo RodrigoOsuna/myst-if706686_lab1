{
 "cells": [
  {
   "cell_type": "markdown",
   "metadata": {},
   "source": [
    "<img src=\"http://oci02.img.iteso.mx/identidad_de_instancia_2018/ITESO/Logos%20ITESO/Logo-ITESO-Principal.jpg\">"
   ]
  },
  {
   "cell_type": "markdown",
   "metadata": {},
   "source": [
    "<center><font color=#555555><font size=6> Ingeniería Financiera </font> <br> <br>\n",
    "\n",
    "<center><font color=#555555><font size=5> ITE1731 - Microestructura y Sistemas de Trading </font> <br> <br> <br>\n",
    "\n",
    "<center><font color=#555555><font size=5> I.F. Rodrigo Osuna Rios </font> <br> <br>\n",
    "   \n",
    "<center> <font color= #555555> <font size = 4> Septiembre 2020 </a> | <font color= #555555> <font size = 4> Repositorio: <a href='https://github.com/'>https://github.com/RodrigoOsuna/myst-if706686_lab1</a></font>"
   ]
  },
  {
   "cell_type": "markdown",
   "metadata": {},
   "source": [
    "<center> <font color= #555555> <font size = 7> Laboratorio 1 </font> <br> <br> <font color= #555555> <font size = 5> Inversión del Capital </font>"
   ]
  },
  {
   "cell_type": "markdown",
   "metadata": {},
   "source": [
    "# <font color= #555555> <font size = 5> Abstract </font>"
   ]
  },
  {
   "cell_type": "markdown",
   "metadata": {},
   "source": [
    "<font color= #6B6B6B> <font size = 2> Este documento fue elaborado por Rodrigo Osuna Rios, como un trabajo parcial para la materia de **Microestructura y Sistemas de Trading - ITE1731**, la cual es parte del curriculum de la licenciatura en Ingeniería Financiera, ofertada por la universidad **ITESO**. En el presente trabajo se plantea la respuesta a la siguiente pregutna: *¿Qué estrategia de inversión propondrías si tu trabajo fuera administrar 1 Millón de pesos?*</font>"
   ]
  },
  {
   "cell_type": "markdown",
   "metadata": {},
   "source": [
    "# <font color= #6B6B6B> <font size = 5> 0.1 Librerías </font> <font color= #555555>"
   ]
  },
  {
   "cell_type": "markdown",
   "metadata": {},
   "source": [
    "Para correr este notebook es necesario tener instaladas y/o en el archivo _requirements.txt_ las siguientes librerías :"
   ]
  },
  {
   "cell_type": "markdown",
   "metadata": {},
   "source": [
    "- pandas>=1.1.1 \n",
    "- numpy>=1.19.1\n",
    "- jupyter>=1.0.0\n",
    "- yfinance>=0.1.54"
   ]
  },
  {
   "cell_type": "markdown",
   "metadata": {},
   "source": [
    "# <font color= #6B6B6B> <font size = 5> 0.2 Dependencias </font> <font color= #555555>"
   ]
  },
  {
   "cell_type": "markdown",
   "metadata": {},
   "source": [
    "Para correr este notebook es necesario contar con los siguientes archivos y dependencias externas:"
   ]
  },
  {
   "cell_type": "markdown",
   "metadata": {},
   "source": [
    "- files/precios.csv : Precios históricos\n",
    "- files/datos.txt : Otros datos históricos"
   ]
  },
  {
   "cell_type": "markdown",
   "metadata": {},
   "source": [
    "# <font color= #6B6B6B> <font size = 6> 1. Introducción </font>"
   ]
  },
  {
   "cell_type": "markdown",
   "metadata": {},
   "source": [
    "En este primer laboratorio se busca analizar la diferencia entre las técnicas de inversión pasiva y activa, todo esto mediante el uso de 1'000,000 de capital de inversión para invertir en el Naftrac.\n",
    "\n",
    "Por parte de la inversión pasiva se busca seguir el comportamiento del indice, al no diversificar con acciones más arriesgadas que no figuran en el mercado seguido. La principal ventaja es que el riesgo es mucho menor, y si hay pérdidas son muy bajas porque no se busa arriesgar demasiado.\n",
    "\n",
    "En cambio en la inversión activa, se busca un mayor rendimiento que el índice en el que se encuentra, cambiando los pesos de los activos y diversificando el riesgo de una mayor manera.  \n",
    "\n"
   ]
  },
  {
   "cell_type": "markdown",
   "metadata": {},
   "source": [
    "# <font color= #6B6B6B> <font size = 6> 2. Objetivos </font>"
   ]
  },
  {
   "cell_type": "markdown",
   "metadata": {},
   "source": [
    "- Se busca analizar como se comporta el ETF en pasivo de los titulos que compramos al incio. "
   ]
  },
  {
   "cell_type": "markdown",
   "metadata": {},
   "source": [
    "# <font color= #6B6B6B> <font size = 6> 3. Datos </font>"
   ]
  },
  {
   "cell_type": "markdown",
   "metadata": {},
   "source": [
    "Utilizamos NAFTRAC que es un ETF que replica el comportamiento del IPC"
   ]
  },
  {
   "cell_type": "markdown",
   "metadata": {},
   "source": [
    "# <font color= #6B6B6B> <font size = 6> 4. Procesos </font>"
   ]
  },
  {
   "cell_type": "code",
   "execution_count": 6,
   "metadata": {},
   "outputs": [
    {
     "name": "stdout",
     "output_type": "stream",
     "text": [
      "Collecting yfinance\n",
      "  Using cached https://files.pythonhosted.org/packages/c2/31/8b374a12b90def92a4e27d0fc595fc43635f395984e36a075244d98bd265/yfinance-0.1.54.tar.gz\n",
      "Requirement already satisfied: pandas>=0.24 in c:\\users\\usuario\\anaconda3\\lib\\site-packages (from yfinance) (0.25.1)\n",
      "Requirement already satisfied: numpy>=1.15 in c:\\users\\usuario\\anaconda3\\lib\\site-packages (from yfinance) (1.16.5)\n",
      "Requirement already satisfied: requests>=2.20 in c:\\users\\usuario\\anaconda3\\lib\\site-packages (from yfinance) (2.22.0)\n",
      "Collecting multitasking>=0.0.7 (from yfinance)\n",
      "  Using cached https://files.pythonhosted.org/packages/69/e7/e9f1661c28f7b87abfa08cb0e8f51dad2240a9f4f741f02ea839835e6d18/multitasking-0.0.9.tar.gz\n",
      "Requirement already satisfied: python-dateutil>=2.6.1 in c:\\users\\usuario\\anaconda3\\lib\\site-packages (from pandas>=0.24->yfinance) (2.8.0)\n",
      "Requirement already satisfied: pytz>=2017.2 in c:\\users\\usuario\\anaconda3\\lib\\site-packages (from pandas>=0.24->yfinance) (2019.3)\n",
      "Requirement already satisfied: urllib3!=1.25.0,!=1.25.1,<1.26,>=1.21.1 in c:\\users\\usuario\\anaconda3\\lib\\site-packages (from requests>=2.20->yfinance) (1.24.2)\n",
      "Requirement already satisfied: chardet<3.1.0,>=3.0.2 in c:\\users\\usuario\\anaconda3\\lib\\site-packages (from requests>=2.20->yfinance) (3.0.4)\n",
      "Requirement already satisfied: idna<2.9,>=2.5 in c:\\users\\usuario\\anaconda3\\lib\\site-packages (from requests>=2.20->yfinance) (2.8)\n",
      "Requirement already satisfied: certifi>=2017.4.17 in c:\\users\\usuario\\anaconda3\\lib\\site-packages (from requests>=2.20->yfinance) (2019.9.11)\n",
      "Requirement already satisfied: six>=1.5 in c:\\users\\usuario\\anaconda3\\lib\\site-packages (from python-dateutil>=2.6.1->pandas>=0.24->yfinance) (1.12.0)\n",
      "Building wheels for collected packages: yfinance, multitasking\n",
      "  Building wheel for yfinance (setup.py): started\n",
      "  Building wheel for yfinance (setup.py): finished with status 'done'\n",
      "  Created wheel for yfinance: filename=yfinance-0.1.54-py2.py3-none-any.whl size=22414 sha256=ab1850904f8e132f41eaae051cfe1daa9d38df59c1c302b5ea97ccec46b11c06\n",
      "  Stored in directory: C:\\Users\\USUARIO\\AppData\\Local\\pip\\Cache\\wheels\\f9\\e3\\5b\\ec24dd2984b12d61e0abf26289746c2436a0e7844f26f2515c\n",
      "  Building wheel for multitasking (setup.py): started\n",
      "  Building wheel for multitasking (setup.py): finished with status 'done'\n",
      "  Created wheel for multitasking: filename=multitasking-0.0.9-cp37-none-any.whl size=8373 sha256=13ef7ddbdb787a0e8c2be45194864a1c9636adb48ccd5096cc51b2cae67106b2\n",
      "  Stored in directory: C:\\Users\\USUARIO\\AppData\\Local\\pip\\Cache\\wheels\\37\\fa\\73\\d492849e319038eb4d986f5152e4b19ffb1bc0639da84d2677\n",
      "Successfully built yfinance multitasking\n",
      "Installing collected packages: multitasking, yfinance\n",
      "Successfully installed multitasking-0.0.9 yfinance-0.1.54\n",
      "Note: you may need to restart the kernel to use updated packages.\n"
     ]
    }
   ],
   "source": [
    "pip install yfinance"
   ]
  },
  {
   "cell_type": "code",
   "execution_count": 7,
   "metadata": {},
   "outputs": [
    {
     "name": "stdout",
     "output_type": "stream",
     "text": [
      "[*********************100%***********************]  39 of 39 completed\n",
      "se tardo 9.5 segundos\n"
     ]
    }
   ],
   "source": [
    "import data as dt\n",
    "import visualizations as vis\n",
    "import functions as fn\n",
    "import pandas as pd\n",
    "from os.path import isfile, join\n",
    "from os import listdir, path\n",
    "import yfinance\n",
    "\n",
    "pd.set_option('display.max_rows', None)\n",
    "pd.set_option('display.max_columns', None)\n",
    "pd.set_option('display.width', None)\n",
    "pd.set_option('display.expand_frame_repr', False)\n",
    "\n",
    "\n",
    "\n",
    "k = 1000000\n",
    "c = 0.00125\n",
    "eliminar = ['KOFL', 'KOFUBL', 'BSMXB', 'MXN', 'USD']\n",
    "abspath = path.abspath('NAFTRAC_holdings/')\n",
    "\n",
    "archivos = dt.ordenararchivos(abspath)\n",
    "\n",
    "\n",
    "data_archivos= dt.limpiararchivos(archivos)\n",
    "\n",
    "\n",
    "i_fechas= fn.funcfechas(archivos)\n",
    "\n",
    "global_tickers = fn.functickers(archivos,data_archivos)\n",
    "\n",
    "\n",
    "data = fn.funcdesdatos(global_tickers)\n",
    "\n",
    "data_close = fn.funccierres(data,global_tickers)\n",
    "\n",
    "ic_fechas = fn.funcfechacierre(data_close,i_fechas)\n",
    "\n",
    "precios = fn.funcprecio(data_close,ic_fechas)\n",
    "\n",
    "pos_datos = fn.funcdatosposi(eliminar,data_archivos,archivos,precios,k,c)\n",
    "\n",
    "Cash = k - pos_datos['Postura'].sum() - pos_datos['Comisiones'].sum()\n",
    "\n",
    "\n",
    "inv_pasiva = {'Dates': ['2018-01-30'], 'Capital': [k]}\n",
    "\n",
    "inv_pasiva =fn.funcpasiva(ic_fechas,pos_datos,precios,Cash,inv_pasiva)\n",
    "\n",
    "\n",
    "df_pasiva=vis.pasiva(inv_pasiva)\n"
   ]
  },
  {
   "cell_type": "markdown",
   "metadata": {},
   "source": [
    "Con estas funciones lo primero que se hizo fue hacer  extraer los nombres de los archivos  csv posteriormente en la inversion pasiva fue mensual emparejamos las fechas  con las de yahoo  una vez descargados los datos, despues se obtuvieron los tickers y y se hizo un dataframe para ir recorriendo los meses y ver como se comportaba mi capital si algun activo subia o bajaba ya que los titulos siempre fueron los mismos"
   ]
  },
  {
   "cell_type": "code",
   "execution_count": 8,
   "metadata": {},
   "outputs": [
    {
     "data": {
      "text/html": [
       "<div>\n",
       "<style scoped>\n",
       "    .dataframe tbody tr th:only-of-type {\n",
       "        vertical-align: middle;\n",
       "    }\n",
       "\n",
       "    .dataframe tbody tr th {\n",
       "        vertical-align: top;\n",
       "    }\n",
       "\n",
       "    .dataframe thead th {\n",
       "        text-align: right;\n",
       "    }\n",
       "</style>\n",
       "<table border=\"1\" class=\"dataframe\">\n",
       "  <thead>\n",
       "    <tr style=\"text-align: right;\">\n",
       "      <th></th>\n",
       "      <th>Dates</th>\n",
       "      <th>Capital</th>\n",
       "      <th>Rend</th>\n",
       "      <th>Rend Acum</th>\n",
       "    </tr>\n",
       "  </thead>\n",
       "  <tbody>\n",
       "    <tr>\n",
       "      <td>0</td>\n",
       "      <td>2018-01-30</td>\n",
       "      <td>1000000.000000</td>\n",
       "      <td>0.000000</td>\n",
       "      <td>0.000000</td>\n",
       "    </tr>\n",
       "    <tr>\n",
       "      <td>1</td>\n",
       "      <td>2018-01-31</td>\n",
       "      <td>998805.390000</td>\n",
       "      <td>-0.001195</td>\n",
       "      <td>-0.001195</td>\n",
       "    </tr>\n",
       "    <tr>\n",
       "      <td>2</td>\n",
       "      <td>2018-02-28</td>\n",
       "      <td>943330.696429</td>\n",
       "      <td>-0.055541</td>\n",
       "      <td>-0.056736</td>\n",
       "    </tr>\n",
       "    <tr>\n",
       "      <td>3</td>\n",
       "      <td>2018-03-28</td>\n",
       "      <td>918905.572724</td>\n",
       "      <td>-0.025892</td>\n",
       "      <td>-0.082628</td>\n",
       "    </tr>\n",
       "    <tr>\n",
       "      <td>4</td>\n",
       "      <td>2018-04-30</td>\n",
       "      <td>961771.859256</td>\n",
       "      <td>0.046649</td>\n",
       "      <td>-0.035979</td>\n",
       "    </tr>\n",
       "  </tbody>\n",
       "</table>\n",
       "</div>"
      ],
      "text/plain": [
       "        Dates         Capital      Rend  Rend Acum\n",
       "0  2018-01-30  1000000.000000  0.000000   0.000000\n",
       "1  2018-01-31   998805.390000 -0.001195  -0.001195\n",
       "2  2018-02-28   943330.696429 -0.055541  -0.056736\n",
       "3  2018-03-28   918905.572724 -0.025892  -0.082628\n",
       "4  2018-04-30   961771.859256  0.046649  -0.035979"
      ]
     },
     "execution_count": 8,
     "metadata": {},
     "output_type": "execute_result"
    }
   ],
   "source": [
    "df_pasiva.head(5)"
   ]
  },
  {
   "cell_type": "markdown",
   "metadata": {},
   "source": [
    "# <font color= #6B6B6B> <font size = 6> 5. Conclusiones </font>"
   ]
  },
  {
   "cell_type": "markdown",
   "metadata": {},
   "source": [
    "Sabemos que siempre para la inversion depende de la persona inversionista, para una persona que prefiere no tener alto riesgo es mejor una inversion pasiva ya que no nos exponemos mucho a los cambios en los precios. mientras que del lado contrario del inversor a inversion activa es una buena opcion si buscas obtener mas rentabilidad."
   ]
  }
 ],
 "metadata": {
  "kernelspec": {
   "display_name": "Python 3",
   "language": "python",
   "name": "python3"
  },
  "language_info": {
   "codemirror_mode": {
    "name": "ipython",
    "version": 3
   },
   "file_extension": ".py",
   "mimetype": "text/x-python",
   "name": "python",
   "nbconvert_exporter": "python",
   "pygments_lexer": "ipython3",
   "version": "3.7.4"
  }
 },
 "nbformat": 4,
 "nbformat_minor": 2
}
